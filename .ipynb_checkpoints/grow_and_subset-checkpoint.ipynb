{
 "cells": [
  {
   "cell_type": "code",
   "execution_count": 347,
   "metadata": {},
   "outputs": [],
   "source": [
    "import csv\n",
    "import os\n",
    "from sklearn import preprocessing\n",
    "\n",
    "\n",
    "def open_data(NAMESPACE, parent_dir='data/', delimiter = '\\t', dimred=True, annos = []):\n",
    "\n",
    "    filename = 'dimred' if dimred else 'full'\n",
    "    with open(parent_dir+NAMESPACE+'/'+filename+'.txt') as f:\n",
    "        reader = csv.reader(f, delimiter = delimiter)\n",
    "        data = np.array(list(reader)).astype(float) #assumes clean data, no column names\n",
    "\n",
    "    result = dataset(data, path=parent_dir+NAMESPACE+'/')\n",
    "\n",
    "\n",
    "    for anno in annos: #search for the indicated annotation file\n",
    "        if os.path.exists(parent_dir+NAMESPACE+'/'+anno+'.txt'):\n",
    "            with open(parent_dir+NAMESPACE+'/'+anno+'.txt') as f:\n",
    "                reader = csv.reader(f, delimiter = delimiter)\n",
    "                labels = np.array(list(reader))\n",
    "                labels = [x[0] for x in labels]\n",
    "                result.data[anno] = labels\n",
    "        else:\n",
    "            print('WARNING: could not find annotation {}'.format(anno))\n",
    "\n",
    "\n",
    "    #search for subsamples\n",
    "    if os.path.exists(parent_dir+NAMESPACE+'/ft.txt'):\n",
    "        result.load_subsample(parent_dir+NAMESPACE+'/ft.txt', name='ft', delimiter=delimiter)\n",
    "\n",
    "\n",
    "    return(result)\n"
   ]
  },
  {
   "cell_type": "code",
   "execution_count": 348,
   "metadata": {},
   "outputs": [],
   "source": [
    "import warnings\n",
    "import os\n",
    "warnings.simplefilter('ignore')\n",
    "\n",
    "os.chdir('/Users/bdemeo/Documents/bergerlab/lsh/ample/bin')\n",
    "from datatools import *\n",
    "from dataset import *\n",
    "\n",
    "os.chdir('/Users/bdemeo/Documents/bergerlab/lsh/ample')"
   ]
  },
  {
   "cell_type": "code",
   "execution_count": null,
   "metadata": {},
   "outputs": [],
   "source": [
    "plt.rcParams['figure.figsize'] = [10, 10]"
   ]
  },
  {
   "cell_type": "code",
   "execution_count": 349,
   "metadata": {},
   "outputs": [],
   "source": [
    "zheng = open_data('zheng', annos = ['labels','patients'])"
   ]
  },
  {
   "cell_type": "code",
   "execution_count": 357,
   "metadata": {},
   "outputs": [
    {
     "name": "stdout",
     "output_type": "stream",
     "text": [
      "making embedding\n",
      "embedding size 4070\n",
      "(4070, 4)\n"
     ]
    },
    {
     "data": {
      "application/vnd.jupyter.widget-view+json": {
       "model_id": "3a177a5ecde549b0ad15f0f8de08a9c6",
       "version_major": 2,
       "version_minor": 0
      },
      "text/plain": [
       "aW50ZXJhY3RpdmUoY2hpbGRyZW49KEludFNsaWRlcih2YWx1ZT0yMDM1LCBkZXNjcmlwdGlvbj11J04nLCBtYXg9NDA3MCwgbWluPTEpLCBEcm9wZG93bihkZXNjcmlwdGlvbj11J2NvbG9yJyzigKY=\n"
      ]
     },
     "metadata": {},
     "output_type": "display_data"
    }
   ],
   "source": [
    "zheng.grow()"
   ]
  },
  {
   "cell_type": "code",
   "execution_count": 358,
   "metadata": {},
   "outputs": [],
   "source": [
    "zheng_subset = zheng.subset('patients','P1116')"
   ]
  },
  {
   "cell_type": "code",
   "execution_count": 363,
   "metadata": {},
   "outputs": [
    {
     "name": "stdout",
     "output_type": "stream",
     "text": [
      "making embedding\n",
      "embedding size 818\n",
      "(818, 4)\n"
     ]
    },
    {
     "data": {
      "application/vnd.jupyter.widget-view+json": {
       "model_id": "4f2b0a10d1974153b906b55c0da254fc",
       "version_major": 2,
       "version_minor": 0
      },
      "text/plain": [
       "aW50ZXJhY3RpdmUoY2hpbGRyZW49KEludFNsaWRlcih2YWx1ZT00MDksIGRlc2NyaXB0aW9uPXUnTicsIG1heD04MTgsIG1pbj0xKSwgRHJvcGRvd24oZGVzY3JpcHRpb249dSdjb2xvcicsIG/igKY=\n"
      ]
     },
     "metadata": {},
     "output_type": "display_data"
    }
   ],
   "source": [
    "zheng_subset.grow()"
   ]
  },
  {
   "cell_type": "code",
   "execution_count": null,
   "metadata": {},
   "outputs": [],
   "source": []
  }
 ],
 "metadata": {
  "kernelspec": {
   "display_name": "Python 2",
   "language": "python",
   "name": "python2"
  },
  "language_info": {
   "codemirror_mode": {
    "name": "ipython",
    "version": 2
   },
   "file_extension": ".py",
   "mimetype": "text/x-python",
   "name": "python",
   "nbconvert_exporter": "python",
   "pygments_lexer": "ipython2",
   "version": "2.7.14"
  }
 },
 "nbformat": 4,
 "nbformat_minor": 2
}
