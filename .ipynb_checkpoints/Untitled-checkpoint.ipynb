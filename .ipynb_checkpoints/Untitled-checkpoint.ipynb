{
 "cells": [
  {
   "cell_type": "code",
   "execution_count": 1,
   "metadata": {},
   "outputs": [],
   "source": [
    "\n",
    "\n",
    "import warnings\n",
    "warnings.simplefilter('ignore')\n",
    "import csv\n",
    "import os\n",
    "os.chdir('/Users/bdemeo/Documents/bergerlab/lsh/ample/bin')\n",
    "import matplotlib.pyplot as plt\n",
    "import umap\n",
    "from sklearn import preprocessing\n",
    "from hashers import *\n",
    "import ipywidgets as widgets\n",
    "from ipywidgets import interact, interact_manual\n",
    "from copy import deepcopy\n",
    "from fbpca import pca\n",
    "from dataset import *\n",
    "\n"
   ]
  },
  {
   "cell_type": "code",
   "execution_count": 2,
   "metadata": {},
   "outputs": [],
   "source": [
    "os.chdir('/Users/bdemeo/Documents/bergerlab/lsh/ample/')"
   ]
  },
  {
   "cell_type": "code",
   "execution_count": 70,
   "metadata": {},
   "outputs": [],
   "source": [
    "def gap_segment(v): #simply split v at longest gap.\n",
    "    sorted = np.sort(np.array(v))\n",
    "    \n",
    "    \n",
    "    gap_lengths = sorted[1:]-sorted[:-1]\n",
    "    split_pos = np.argmax(gap_lengths)\n",
    "    \n",
    "    split_val = sorted[split_pos] #split if greater than here\n",
    "    \n",
    "    result = [0]*len(v)\n",
    "    for i,x in enumerate(v):\n",
    "        if x > split_val:\n",
    "            result[i]=1\n",
    "    \n",
    "    return(result)\n",
    "    \n",
    "    \n",
    "    "
   ]
  },
  {
   "cell_type": "code",
   "execution_count": 71,
   "metadata": {},
   "outputs": [],
   "source": [
    "def diff_matrix(X, split): \n",
    "    result = deepcopy(X)\n",
    "    for (i,x) in enumerate(split):\n",
    "        if(x == 0):\n",
    "            result[i,:]=-1*result[i,:]\n",
    "            \n",
    "    return(result)"
   ]
  },
  {
   "cell_type": "code",
   "execution_count": 72,
   "metadata": {},
   "outputs": [],
   "source": [
    "def svd_update(X, split):\n",
    "    M = diff_matrix(X, split)\n",
    "    U, s, Vt = pca(M, k=1)\n",
    "    result = Vt.tolist()\n",
    "    result = [item for sublist in result for item in sublist]\n",
    "    print('magnitude {}'.format(np.linalg.norm(np.matmul(M, np.transpose(Vt)))))\n",
    "    print(s)\n",
    "    return(np.array(result))\n",
    "    "
   ]
  },
  {
   "cell_type": "code",
   "execution_count": 105,
   "metadata": {},
   "outputs": [],
   "source": [
    "def iterate((X,v, split)):\n",
    "    #change split\n",
    "#     print(np.matmul(X,v))\n",
    "#     print(split)\n",
    "#     print(v)\n",
    "    split = gap_segment(np.matmul(X,v))\n",
    "    v = svd_update(X, split)\n",
    "\n",
    "\n",
    "    return tuple([X, v, split])\n",
    "    "
   ]
  },
  {
   "cell_type": "code",
   "execution_count": 106,
   "metadata": {},
   "outputs": [],
   "source": [
    "def gauss_test(n=[100], d=2, m=1, stdev=[1]):\n",
    "    #np.random.seed()\n",
    "    'n points, m gaussias, d dimensions, specified sds'\n",
    "    result = numpy.random.randn(0, d)\n",
    "    centers = numpy.random.normal(0*d, 10, [m, d])\n",
    "    for i in range(len(centers)):\n",
    "        # print(n[i])\n",
    "        # print(d)\n",
    "        c = centers[i]\n",
    "        result = numpy.concatenate((result,\n",
    "                                    numpy.random.normal(c, stdev[i], (n[i], d))),\n",
    "                                    axis = 0)\n",
    "    return result\n"
   ]
  },
  {
   "cell_type": "code",
   "execution_count": 122,
   "metadata": {},
   "outputs": [],
   "source": [
    "gauss = gauss_test(n=[100,100], d=20, m=2, stdev=[20,20])"
   ]
  },
  {
   "cell_type": "code",
   "execution_count": 123,
   "metadata": {
    "scrolled": true
   },
   "outputs": [
    {
     "name": "stdout",
     "output_type": "stream",
     "text": [
      "magnitude 517.751980521\n",
      "[513.42208798]\n"
     ]
    }
   ],
   "source": [
    "data = dataset(gauss)\n",
    "split = np.random.choice([0,1],gauss.shape[0])\n",
    "v = svd_update(data.data, split)"
   ]
  },
  {
   "cell_type": "code",
   "execution_count": 124,
   "metadata": {},
   "outputs": [],
   "source": [
    "data.annos['split'] = split"
   ]
  },
  {
   "cell_type": "code",
   "execution_count": 125,
   "metadata": {
    "scrolled": true
   },
   "outputs": [
    {
     "name": "stdout",
     "output_type": "stream",
     "text": [
      "magnitude 444.295486748\n",
      "[439.71751211]\n",
      "magnitude 448.52582654\n",
      "[442.36094011]\n",
      "magnitude 449.488580971\n",
      "[446.05645458]\n",
      "magnitude 449.690452297\n",
      "[446.06957977]\n",
      "magnitude 448.951117203\n",
      "[447.72868688]\n",
      "magnitude 440.321642633\n",
      "[427.50828235]\n",
      "magnitude 439.630158456\n",
      "[428.18329221]\n",
      "magnitude 446.99853814\n",
      "[442.86629798]\n",
      "magnitude 439.941768996\n",
      "[431.05188842]\n",
      "magnitude 446.519835553\n",
      "[442.75216107]\n",
      "magnitude 440.689829574\n",
      "[428.89435881]\n",
      "magnitude 449.249954854\n",
      "[448.21420923]\n",
      "magnitude 435.383023715\n",
      "[423.97249961]\n",
      "magnitude 445.605500884\n",
      "[441.50674316]\n",
      "magnitude 434.928535277\n",
      "[424.29318124]\n",
      "magnitude 447.269020556\n",
      "[433.95221921]\n",
      "magnitude 447.259051841\n",
      "[444.60594795]\n",
      "magnitude 416.981692007\n",
      "[397.33604815]\n",
      "magnitude 435.223581735\n",
      "[425.48728309]\n",
      "magnitude 445.074580695\n",
      "[440.49331561]\n"
     ]
    }
   ],
   "source": [
    "for i in range(20):\n",
    "    data.annos['n{}'.format(i)] = data.annos['split']\n",
    "    data.data, v, data.annos['split'] = iterate((data.data, v, data.annos['split']))\n",
    "    "
   ]
  },
  {
   "cell_type": "code",
   "execution_count": 126,
   "metadata": {
    "scrolled": true
   },
   "outputs": [
    {
     "name": "stdout",
     "output_type": "stream",
     "text": [
      "making embedding\n",
      "embedding size 200\n"
     ]
    },
    {
     "data": {
      "application/vnd.jupyter.widget-view+json": {
       "model_id": "a77035579b7943da8ac5f037766272a6",
       "version_major": 2,
       "version_minor": 0
      },
      "text/plain": [
       "aW50ZXJhY3RpdmUoY2hpbGRyZW49KEludFNsaWRlcih2YWx1ZT0xMDAsIGRlc2NyaXB0aW9uPXUnTicsIG1heD0yMDAsIG1pbj0xKSwgRHJvcGRvd24oZGVzY3JpcHRpb249dSdjb2xvcicsIG/igKY=\n"
      ]
     },
     "metadata": {},
     "output_type": "display_data"
    }
   ],
   "source": [
    "data.grow()"
   ]
  },
  {
   "cell_type": "code",
   "execution_count": null,
   "metadata": {},
   "outputs": [],
   "source": []
  },
  {
   "cell_type": "code",
   "execution_count": null,
   "metadata": {},
   "outputs": [],
   "source": []
  }
 ],
 "metadata": {
  "kernelspec": {
   "display_name": "Python 2",
   "language": "python",
   "name": "python2"
  },
  "language_info": {
   "codemirror_mode": {
    "name": "ipython",
    "version": 2
   },
   "file_extension": ".py",
   "mimetype": "text/x-python",
   "name": "python",
   "nbconvert_exporter": "python",
   "pygments_lexer": "ipython2",
   "version": "2.7.14"
  }
 },
 "nbformat": 4,
 "nbformat_minor": 2
}
