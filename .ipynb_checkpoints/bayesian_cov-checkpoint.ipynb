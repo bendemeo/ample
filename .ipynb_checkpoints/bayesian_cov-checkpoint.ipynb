{
 "cells": [
  {
   "cell_type": "code",
   "execution_count": 70,
   "metadata": {},
   "outputs": [],
   "source": [
    "import numpy as np\n",
    "import matplotlib.pyplot as plt\n",
    "from heapq import heappop, heappush\n",
    "from ipywidgets import interact, interact_manual\n",
    "from scipy.special import gamma\n",
    "from sklearn.datasets import make_spd_matrix\n",
    "from sklearn.metrics import pairwise_distances\n",
    "from scipy.stats import multivariate_normal\n",
    "from collections import Counter\n",
    "from sklearn.neighbors import NearestNeighbors\n",
    "import math\n",
    "import matplotlib"
   ]
  },
  {
   "cell_type": "code",
   "execution_count": 20,
   "metadata": {},
   "outputs": [],
   "source": [
    "import warnings\n",
    "import os\n",
    "warnings.simplefilter('ignore')\n",
    "\n",
    "os.chdir('/Users/bdemeo/Documents/bergerlab/lsh/ample/bin')\n",
    "from norms import *\n",
    "from dataset import *\n",
    "from datatools import *\n",
    "os.chdir('/Users/bdemeo/Documents/bergerlab/lsh/ample')"
   ]
  },
  {
   "cell_type": "code",
   "execution_count": 55,
   "metadata": {},
   "outputs": [],
   "source": [
    "%matplotlib inline\n",
    "matplotlib.rcParams['figure.figsize'] = (10.0, 10.0)"
   ]
  },
  {
   "cell_type": "code",
   "execution_count": 11,
   "metadata": {},
   "outputs": [],
   "source": [
    "def posterior_cov(xs, prior_cov=None, prior_degs=None, bayesian=True):\n",
    "    \"\"\"Given a prior covariance matrix and degrees of freedom, compute posterior covariance matrix\n",
    "    after seeing xs, matrix of observations (rows) of several variables (cols)\n",
    "    We assume the prior mean is the sample mean\"\"\"\n",
    "    \n",
    "    xs = xs.astype(float)\n",
    "    \n",
    "    if prior_degs is None: #use the least-informative prior\n",
    "        prior_degs = xs.shape[1]\n",
    "        \n",
    "    N = xs.shape[0] #how many points?\n",
    "    \n",
    "    if N <= 1:\n",
    "        print('single point encountered')\n",
    "        return(prior_cov) #not enough info to update\n",
    "\n",
    "    sample_cov = np.cov(np.transpose(xs))\n",
    "    #print(sample_cov.shape)\n",
    "    \n",
    "    if bayesian:\n",
    "        # see https://www.fil.ion.ucl.ac.uk/~wpenny/publications/bmn.pdf\n",
    "        posterior_cov = (1./(prior_degs + (float(N)/2.)))*(prior_cov + (float(N)/2.)*sample_cov)\n",
    "        return(posterior_cov)\n",
    "    else:\n",
    "        return(sample_cov)\n",
    "    \n",
    "    \n",
    "    \n",
    "    \n",
    "    "
   ]
  },
  {
   "cell_type": "code",
   "execution_count": 4,
   "metadata": {},
   "outputs": [],
   "source": [
    "def ball_cover(data, n_balls, distfunc):\n",
    "    \"\"\"produce an efficient covering by n_balls balls using far traversals\"\"\"\n",
    "    \n",
    "    balls = {} #dict of {index: neighboring indices}\n",
    "    rad = float('Inf') #current covering radius\n",
    "    not_sampled = list(range(data.shape[0]))\n",
    "    min_dists = [float('Inf')] * data.shape[0]\n",
    "    \n",
    "    \n",
    "    while(len(balls) <= n_balls):\n",
    "        if len(balls) == 0: #first one, choose center at random\n",
    "            next_pos = np.random.choice(list(range(len(not_sampled))))\n",
    "        else:\n",
    "            next_pos = min_dists.index(rad)\n",
    "        \n",
    "        next_center = not_sampled[next_pos]\n",
    "        balls[next_center] = [(0,next_center)]\n",
    "        \n",
    "        del not_sampled[next_pos]\n",
    "        del min_dists[next_pos]\n",
    "        \n",
    "        for pos,ind in enumerate(not_sampled):\n",
    "            cur_dist = distfunc(data[ind,:],data[next_center,:])\n",
    "            if cur_dist < rad:\n",
    "                heappush(balls[next_center], (-1*cur_dist, ind))\n",
    "            if cur_dist < min_dists[pos]:\n",
    "                min_dists[pos] = cur_dist\n",
    "        \n",
    "        rad = max(min_dists) #update covering radius\n",
    "        \n",
    "        for ball in list(balls.keys()):\n",
    "            pts = balls[ball]\n",
    "            dist = float('Inf')\n",
    "            while(dist >= rad):\n",
    "                furthest_pt = heappop(pts)\n",
    "                dist = -1*furthest_pt[0]\n",
    "                      \n",
    "            \n",
    "            heappush(pts, furthest_pt) #put back the last one\n",
    "            balls[ball] = pts\n",
    "    \n",
    "        #elim distance info\n",
    "    balls = {b:[y[1] for y in x] for b,x in balls.items()}\n",
    "    \n",
    "    return((balls,rad))\n",
    "            "
   ]
  },
  {
   "cell_type": "code",
   "execution_count": 5,
   "metadata": {},
   "outputs": [],
   "source": [
    "def fit(data, n_balls, distfunc, bayesian=True):\n",
    "    balls, rad = ball_cover(data, n_balls, distfunc)\n",
    "    \n",
    "    dims = data.shape[1]\n",
    "    var = (rad/2.)*(gamma(float(dims)/2.)/(math.sqrt(2)*gamma(float(dims+1)/2.)))\n",
    "    print(var)\n",
    "    \n",
    "    result = []\n",
    "    for b in balls:\n",
    "        if bayesian:\n",
    "            cov = posterior_cov(data[balls[b],:], var * np.identity(dims))\n",
    "        else:\n",
    "            cov = np.cov(np.transpose(data[balls[b],:]).astype(float))\n",
    "            \n",
    "        result.append((b, data[b,:], cov))\n",
    "    return(result)"
   ]
  },
  {
   "cell_type": "code",
   "execution_count": 6,
   "metadata": {},
   "outputs": [],
   "source": [
    "def random_multigauss(n_gauss, n_pts, dims):\n",
    "    pts = np.array([]).reshape([0,dims])\n",
    "    for i in range(n_gauss):\n",
    "        cov = make_spd_matrix(dims)\n",
    "        print(cov)\n",
    "        newpts=np.random.multivariate_normal([0]*dims, cov, size=n_pts)\n",
    "        \n",
    "        pts = np.concatenate((pts, newpts), axis=0)\n",
    "        \n",
    "    return(pts)\n",
    "    "
   ]
  },
  {
   "cell_type": "code",
   "execution_count": 7,
   "metadata": {},
   "outputs": [],
   "source": [
    "def cov_dist(fitvals):\n",
    "    \"\"\"from the output of fit, make pairwise covariance distance matrix\"\"\"\n",
    "     \n",
    "    cov_vecs = np.array([x[2].flatten() for x in fitvals])\n",
    "    \n",
    "    return pairwise_distances(cov_vecs)\n",
    "    \n",
    "    \n",
    "    \n",
    "    \n",
    "    \n",
    "    \n",
    "    "
   ]
  },
  {
   "cell_type": "code",
   "execution_count": 8,
   "metadata": {},
   "outputs": [],
   "source": [
    "def skew_dist(fitvals):\n",
    "    \"\"\"from the output of fit, make probabilistic similarities\"\"\"\n",
    "    \n",
    "    result = np.zeros((len(fitvals), len(fitvals)))\n",
    "    \n",
    "    for i in range(len(fitvals)):\n",
    "        for j in np.arange(i,len(fitvals),1):\n",
    "            pt1 = fitvals[i][1]\n",
    "            pt2 = fitvals[j][1]\n",
    "            cov1 = fitvals[i][2]\n",
    "            cov2 = fitvals[j][2]\n",
    "            \n",
    "            prob1 = multivariate_normal.pdf(pt2-pt1, cov=10*cov1, mean=[0]*len(pt1))\n",
    "            prob2 = multivariate_normal.pdf(pt1-pt2, cov=10*cov2, mean=[0]*len(pt2))\n",
    "            \n",
    "            result[i,j]=math.log(np.mean([prob1, prob2]))\n",
    "            result[j,i]=math.log(np.mean([prob1,prob2]))\n",
    "    return(result)\n",
    "    "
   ]
  },
  {
   "cell_type": "code",
   "execution_count": 9,
   "metadata": {},
   "outputs": [],
   "source": [
    "pbmc = open_data('pbmc', annos=['labels'])"
   ]
  },
  {
   "cell_type": "code",
   "execution_count": 42,
   "metadata": {
    "scrolled": false
   },
   "outputs": [
    {
     "data": {
      "application/vnd.jupyter.widget-view+json": {
       "model_id": "64af1befa9ce476298eec3bed409587e",
       "version_major": 2,
       "version_minor": 0
      },
      "text/plain": [
       "interactive(children=(Dropdown(description='lab', options=('CD14+_Monocyte', 'CD19+_B', 'CD4+/CD25_T_Reg', 'CD…"
      ]
     },
     "metadata": {},
     "output_type": "display_data"
    }
   ],
   "source": [
    "#is covariance structure different between clusters?\n",
    "#is it consistent within clusters?\n",
    "@interact\n",
    "def cluster_covs(lab = np.unique(pbmc.data['labels'])):\n",
    "    data = pbmc.subset('labels',lab).rawdata()\n",
    "    sub1 = data[np.random.choice(data.shape[0], int(data.shape[0]/10), replace=False),:]\n",
    "    \n",
    "    n=10\n",
    "    balls = ball_cover(data, n_balls=n, distfunc=euclidean)[0]\n",
    "    print({i:len(balls[k]) for i,k in enumerate(list(balls.keys()))})\n",
    "    @interact\n",
    "    def ball_covs(ball=(0,n,1)):\n",
    "        sub = data[balls[list(balls.keys())[ball]],:]\n",
    "        m = posterior_cov(sub, bayesian=False)\n",
    "        plt.imshow(np.log(m))\n",
    "    \n",
    "#     m = posterior_cov(data, bayesian=False)\n",
    "#     plt.imshow(np.log(m))\n",
    "#     m1 = posterior_cov(sub1, bayesian=False)\n",
    "#     plt.show()\n",
    "#     plt.imshow(np.log(m1))\n",
    "#     plt.show()"
   ]
  },
  {
   "cell_type": "code",
   "execution_count": 47,
   "metadata": {},
   "outputs": [],
   "source": [
    "#how uniform are epsilon-balls in cluster composition?\n",
    "balls = ball_cover(pbmc.rawdata(), n_balls=100, distfunc=euclidean)[0]"
   ]
  },
  {
   "cell_type": "code",
   "execution_count": 51,
   "metadata": {},
   "outputs": [],
   "source": [
    "sizes=[]\n",
    "pcts=[]\n",
    "for k in list(balls.keys()):\n",
    "    sizes.append(len(balls[k]))\n",
    "    labs = np.array(list(pbmc.data['labels']))[balls[k]]\n",
    "    \n",
    "    most_common = max(set(labs),key=list(labs).count)\n",
    "    occurrences = list(labs).count(most_common)\n",
    "    pcts.append(float(occurrences)/len(labs))\n",
    "    \n",
    "#     counts = dict(Counter(labs))\n",
    "#     print(Counter(labs))"
   ]
  },
  {
   "cell_type": "code",
   "execution_count": 56,
   "metadata": {
    "scrolled": false
   },
   "outputs": [
    {
     "data": {
      "text/plain": [
       "<matplotlib.collections.PathCollection at 0x142b18e90>"
      ]
     },
     "execution_count": 56,
     "metadata": {},
     "output_type": "execute_result"
    },
    {
     "data": {
      "image/png": "[encoded data removed]",
      "text/plain": [
       "<Figure size 720x720 with 1 Axes>"
      ]
     },
     "metadata": {
      "needs_background": "light"
     },
     "output_type": "display_data"
    }
   ],
   "source": [
    "plt.scatter(sizes,pcts)"
   ]
  },
  {
   "cell_type": "code",
   "execution_count": null,
   "metadata": {},
   "outputs": [],
   "source": [
    "#how about knns?\n",
    "\n",
    "nbrs = NearestNeighbors(n_neighbors=k, metric=metric).fit(data)\n",
    "distances, indices = nbrs.kneighbors(data)"
   ]
  },
  {
   "cell_type": "code",
   "execution_count": 98,
   "metadata": {},
   "outputs": [],
   "source": [
    "def knn_cover(data, subset, subset_inds=None, k=5, metric=euclidean):\n",
    "#     if subset_inds is None:\n",
    "#         subset_inds = list(range(data.shape[0]))\n",
    "    print('Fitting to data...')\n",
    "    nbrs = NearestNeighbors(n_neighbors=k+1, metric=metric).fit(data)\n",
    "    \n",
    "    if subset is None:\n",
    "        subset = data[subset_inds,:]\n",
    "    if subset_inds is None:\n",
    "        subset_inds = list(range(subset.shape[0]))\n",
    "    \n",
    "    print('computing neighbors...')\n",
    "    distances, indices = nbrs.kneighbors(subset)\n",
    "    \n",
    "    result = {x:indices[i]  for i,x in enumerate(subset_inds)}\n",
    "    return(result)\n",
    "    \n",
    "    "
   ]
  },
  {
   "cell_type": "code",
   "execution_count": 99,
   "metadata": {},
   "outputs": [
    {
     "name": "stdout",
     "output_type": "stream",
     "text": [
      "Fitting to data...\n",
      "computing neighbors...\n"
     ]
    },
    {
     "ename": "IndexError",
     "evalue": "index 9 is out of bounds for axis 0 with size 9",
     "output_type": "error",
     "traceback": [
      "\u001b[0;31m---------------------------------------------------------------------------\u001b[0m",
      "\u001b[0;31mIndexError\u001b[0m                                Traceback (most recent call last)",
      "\u001b[0;32m<ipython-input-99-ac34e137ecac>\u001b[0m in \u001b[0;36m<module>\u001b[0;34m\u001b[0m\n\u001b[0;32m----> 1\u001b[0;31m \u001b[0mknns\u001b[0m \u001b[0;34m=\u001b[0m \u001b[0mknn_cover\u001b[0m\u001b[0;34m(\u001b[0m\u001b[0mpbmc\u001b[0m\u001b[0;34m.\u001b[0m\u001b[0mrawdata\u001b[0m\u001b[0;34m(\u001b[0m\u001b[0;34m)\u001b[0m\u001b[0;34m,\u001b[0m \u001b[0msubset\u001b[0m\u001b[0;34m=\u001b[0m\u001b[0mpbmc\u001b[0m\u001b[0;34m.\u001b[0m\u001b[0msubsamples\u001b[0m\u001b[0;34m[\u001b[0m\u001b[0;34m'ft'\u001b[0m\u001b[0;34m]\u001b[0m\u001b[0;34m[\u001b[0m\u001b[0;36m1\u001b[0m\u001b[0;34m:\u001b[0m\u001b[0;36m10\u001b[0m\u001b[0;34m]\u001b[0m\u001b[0;34m.\u001b[0m\u001b[0mrawdata\u001b[0m\u001b[0;34m(\u001b[0m\u001b[0;34m)\u001b[0m\u001b[0;34m,\u001b[0m \u001b[0mk\u001b[0m\u001b[0;34m=\u001b[0m\u001b[0;36m100\u001b[0m\u001b[0;34m)\u001b[0m\u001b[0;34m\u001b[0m\u001b[0;34m\u001b[0m\u001b[0m\n\u001b[0m",
      "\u001b[0;32m<ipython-input-98-99a2a02b720c>\u001b[0m in \u001b[0;36mknn_cover\u001b[0;34m(data, subset, subset_inds, k, metric)\u001b[0m\n\u001b[1;32m     13\u001b[0m     \u001b[0mdistances\u001b[0m\u001b[0;34m,\u001b[0m \u001b[0mindices\u001b[0m \u001b[0;34m=\u001b[0m \u001b[0mnbrs\u001b[0m\u001b[0;34m.\u001b[0m\u001b[0mkneighbors\u001b[0m\u001b[0;34m(\u001b[0m\u001b[0msubset\u001b[0m\u001b[0;34m)\u001b[0m\u001b[0;34m\u001b[0m\u001b[0;34m\u001b[0m\u001b[0m\n\u001b[1;32m     14\u001b[0m \u001b[0;34m\u001b[0m\u001b[0m\n\u001b[0;32m---> 15\u001b[0;31m     \u001b[0mresult\u001b[0m \u001b[0;34m=\u001b[0m \u001b[0;34m{\u001b[0m\u001b[0mx\u001b[0m\u001b[0;34m:\u001b[0m\u001b[0mindices\u001b[0m\u001b[0;34m[\u001b[0m\u001b[0mi\u001b[0m\u001b[0;34m]\u001b[0m  \u001b[0;32mfor\u001b[0m \u001b[0mi\u001b[0m\u001b[0;34m,\u001b[0m\u001b[0mx\u001b[0m \u001b[0;32min\u001b[0m \u001b[0menumerate\u001b[0m\u001b[0;34m(\u001b[0m\u001b[0msubset_inds\u001b[0m\u001b[0;34m)\u001b[0m\u001b[0;34m}\u001b[0m\u001b[0;34m\u001b[0m\u001b[0;34m\u001b[0m\u001b[0m\n\u001b[0m\u001b[1;32m     16\u001b[0m     \u001b[0;32mreturn\u001b[0m\u001b[0;34m(\u001b[0m\u001b[0mresult\u001b[0m\u001b[0;34m)\u001b[0m\u001b[0;34m\u001b[0m\u001b[0;34m\u001b[0m\u001b[0m\n\u001b[1;32m     17\u001b[0m \u001b[0;34m\u001b[0m\u001b[0m\n",
      "\u001b[0;32m<ipython-input-98-99a2a02b720c>\u001b[0m in \u001b[0;36m<dictcomp>\u001b[0;34m(.0)\u001b[0m\n\u001b[1;32m     13\u001b[0m     \u001b[0mdistances\u001b[0m\u001b[0;34m,\u001b[0m \u001b[0mindices\u001b[0m \u001b[0;34m=\u001b[0m \u001b[0mnbrs\u001b[0m\u001b[0;34m.\u001b[0m\u001b[0mkneighbors\u001b[0m\u001b[0;34m(\u001b[0m\u001b[0msubset\u001b[0m\u001b[0;34m)\u001b[0m\u001b[0;34m\u001b[0m\u001b[0;34m\u001b[0m\u001b[0m\n\u001b[1;32m     14\u001b[0m \u001b[0;34m\u001b[0m\u001b[0m\n\u001b[0;32m---> 15\u001b[0;31m     \u001b[0mresult\u001b[0m \u001b[0;34m=\u001b[0m \u001b[0;34m{\u001b[0m\u001b[0mx\u001b[0m\u001b[0;34m:\u001b[0m\u001b[0mindices\u001b[0m\u001b[0;34m[\u001b[0m\u001b[0mi\u001b[0m\u001b[0;34m]\u001b[0m  \u001b[0;32mfor\u001b[0m \u001b[0mi\u001b[0m\u001b[0;34m,\u001b[0m\u001b[0mx\u001b[0m \u001b[0;32min\u001b[0m \u001b[0menumerate\u001b[0m\u001b[0;34m(\u001b[0m\u001b[0msubset_inds\u001b[0m\u001b[0;34m)\u001b[0m\u001b[0;34m}\u001b[0m\u001b[0;34m\u001b[0m\u001b[0;34m\u001b[0m\u001b[0m\n\u001b[0m\u001b[1;32m     16\u001b[0m     \u001b[0;32mreturn\u001b[0m\u001b[0;34m(\u001b[0m\u001b[0mresult\u001b[0m\u001b[0;34m)\u001b[0m\u001b[0;34m\u001b[0m\u001b[0;34m\u001b[0m\u001b[0m\n\u001b[1;32m     17\u001b[0m \u001b[0;34m\u001b[0m\u001b[0m\n",
      "\u001b[0;31mIndexError\u001b[0m: index 9 is out of bounds for axis 0 with size 9"
     ]
    }
   ],
   "source": [
    "knns = knn_cover(pbmc.rawdata(), subset=pbmc.subsamples['ft'][1:10].rawdata(), k=100)"
   ]
  },
  {
   "cell_type": "code",
   "execution_count": 27,
   "metadata": {},
   "outputs": [
    {
     "data": {
      "text/plain": [
       "array([ 4027, 12824, 20290, ..., 40065, 35232, 23023])"
      ]
     },
     "execution_count": 27,
     "metadata": {},
     "output_type": "execute_result"
    }
   ],
   "source": [
    "np.random.choice(pbmc.numObs, int(pbmc.numObs/2), replace=False)"
   ]
  },
  {
   "cell_type": "code",
   "execution_count": 25,
   "metadata": {},
   "outputs": [],
   "source": [
    "pbmc = pbmc.subsamples['ft'][1:10000]"
   ]
  },
  {
   "cell_type": "code",
   "execution_count": 26,
   "metadata": {},
   "outputs": [],
   "source": [
    "pbmc.sort_values('labels')"
   ]
  },
  {
   "cell_type": "code",
   "execution_count": 30,
   "metadata": {
    "scrolled": false
   },
   "outputs": [
    {
     "name": "stdout",
     "output_type": "stream",
     "text": [
      "0.030227581415077854\n"
     ]
    }
   ],
   "source": [
    "f = fit(np.array(pbmc.data)[:,:pbmc.numFeatures],100, euclidean, bayesian=False)"
   ]
  },
  {
   "cell_type": "code",
   "execution_count": null,
   "metadata": {},
   "outputs": [],
   "source": []
  },
  {
   "cell_type": "code",
   "execution_count": 39,
   "metadata": {},
   "outputs": [],
   "source": [
    "dists = cov_dist(sorted(f))"
   ]
  },
  {
   "cell_type": "code",
   "execution_count": 43,
   "metadata": {},
   "outputs": [
    {
     "data": {
      "text/plain": [
       "<matplotlib.image.AxesImage at 0x122f52050>"
      ]
     },
     "execution_count": 43,
     "metadata": {},
     "output_type": "execute_result"
    },
    {
     "data": {
      "image/png": "[encoded data removed]",
      "text/plain": [
       "<Figure size 432x288 with 1 Axes>"
      ]
     },
     "metadata": {
      "needs_background": "light"
     },
     "output_type": "display_data"
    }
   ],
   "source": [
    "plt.imshow(dists,cmap='hot')"
   ]
  },
  {
   "cell_type": "code",
   "execution_count": 13,
   "metadata": {},
   "outputs": [],
   "source": [
    "dists=skew_dist(sorted(f))"
   ]
  },
  {
   "cell_type": "code",
   "execution_count": 14,
   "metadata": {},
   "outputs": [
    {
     "data": {
      "text/plain": [
       "array([[152.50976797, 138.34108056, 131.86602971, ..., 106.40309843,\n",
       "        143.72509446,  39.82694349],\n",
       "       [138.34108056, 164.92576977, 140.23774443, ..., 113.27004306,\n",
       "        154.48263006,  40.82430132],\n",
       "       [131.86602971, 140.23774443, 152.66342098, ..., 104.57928383,\n",
       "        144.84887454,  21.75817019],\n",
       "       ...,\n",
       "       [106.40309843, 113.27004306, 104.57928383, ..., 149.13472819,\n",
       "        124.70771613,  50.75574892],\n",
       "       [143.72509446, 154.48263006, 144.84887454, ..., 124.70771613,\n",
       "        180.41939079,  50.49574873],\n",
       "       [ 39.82694349,  40.82430132,  21.75817019, ...,  50.75574892,\n",
       "         50.49574873, 195.7352839 ]])"
      ]
     },
     "execution_count": 14,
     "metadata": {},
     "output_type": "execute_result"
    }
   ],
   "source": [
    "dists"
   ]
  },
  {
   "cell_type": "code",
   "execution_count": 18,
   "metadata": {},
   "outputs": [
    {
     "data": {
      "text/plain": [
       "<matplotlib.image.AxesImage at 0x123069410>"
      ]
     },
     "execution_count": 18,
     "metadata": {},
     "output_type": "execute_result"
    },
    {
     "data": {
      "image/png": "[encoded data removed]",
      "text/plain": [
       "<Figure size 432x288 with 1 Axes>"
      ]
     },
     "metadata": {
      "needs_background": "light"
     },
     "output_type": "display_data"
    }
   ],
   "source": [
    "plt.imshow(dists, cmap='hot')"
   ]
  },
  {
   "cell_type": "code",
   "execution_count": 15,
   "metadata": {
    "scrolled": true
   },
   "outputs": [
    {
     "name": "stdout",
     "output_type": "stream",
     "text": [
      "computing distances...\n"
     ]
    }
   ],
   "source": [
    "dists=pbmc[[x[0] for x in sorted(f)]].heatmap()"
   ]
  },
  {
   "cell_type": "code",
   "execution_count": 19,
   "metadata": {},
   "outputs": [
    {
     "data": {
      "text/plain": [
       "array([[0.        , 0.75920598, 0.62169552, ..., 0.90438011, 0.75202908,\n",
       "        1.18149545],\n",
       "       [0.75920598, 0.        , 0.62447193, ..., 0.84831094, 0.62688012,\n",
       "        1.14306783],\n",
       "       [0.62169552, 0.62447193, 0.        , ..., 0.85181992, 0.7377215 ,\n",
       "        1.23055547],\n",
       "       ...,\n",
       "       [0.90438011, 0.84831094, 0.85181992, ..., 0.        , 0.7929588 ,\n",
       "        1.10592636],\n",
       "       [0.75202908, 0.62688012, 0.7377215 , ..., 0.7929588 , 0.        ,\n",
       "        1.12342346],\n",
       "       [1.18149545, 1.14306783, 1.23055547, ..., 1.10592636, 1.12342346,\n",
       "        0.        ]])"
      ]
     },
     "execution_count": 19,
     "metadata": {},
     "output_type": "execute_result"
    }
   ],
   "source": [
    "dists"
   ]
  },
  {
   "cell_type": "code",
   "execution_count": 21,
   "metadata": {
    "scrolled": true
   },
   "outputs": [
    {
     "data": {
      "image/png": "[encoded data removed]",
      "text/plain": [
       "<Figure size 432x288 with 1 Axes>"
      ]
     },
     "metadata": {
      "needs_background": "light"
     },
     "output_type": "display_data"
    }
   ],
   "source": [
    "plt.imshow(np.corrcoef(dists), cmap='hot')\n",
    "plt.show()"
   ]
  },
  {
   "cell_type": "code",
   "execution_count": 65,
   "metadata": {},
   "outputs": [],
   "source": [
    "pts = np.random.multivariate_normal([0,0],np.identity(2), size=100)"
   ]
  },
  {
   "cell_type": "code",
   "execution_count": 89,
   "metadata": {
    "scrolled": true
   },
   "outputs": [
    {
     "name": "stdout",
     "output_type": "stream",
     "text": [
      "Fitting to data...\n"
     ]
    }
   ],
   "source": [
    "k = knn_cover(pts, k=6)"
   ]
  },
  {
   "cell_type": "code",
   "execution_count": 13,
   "metadata": {},
   "outputs": [],
   "source": [
    "b = ball_cover(pts, 5, euclidean)"
   ]
  },
  {
   "cell_type": "code",
   "execution_count": 14,
   "metadata": {},
   "outputs": [
    {
     "name": "stdout",
     "output_type": "stream",
     "text": [
      "0.7843798966340414\n",
      "(2, 2)\n",
      "(2, 2)\n",
      "(2, 2)\n",
      "(2, 2)\n",
      "(2, 2)\n",
      "(2, 2)\n",
      "(2, 2)\n",
      "(2, 2)\n",
      "(2, 2)\n",
      "(2, 2)\n",
      "(2, 2)\n"
     ]
    }
   ],
   "source": [
    "f = fit(pts,10, euclidean)"
   ]
  },
  {
   "cell_type": "code",
   "execution_count": 15,
   "metadata": {},
   "outputs": [
    {
     "data": {
      "text/plain": [
       "{5547: (array([-0.23898231,  0.74383465]), array([[0.64522933, 0.01073363],\n",
       "         [0.01073363, 0.59176232]])),\n",
       " 8687: (array([ 3.11428074, -2.45167726]), array([[0.2367016 , 0.14157224],\n",
       "         [0.14157224, 0.3141983 ]])),\n",
       " 628: (array([-1.47049781, -3.40118194]), array([[ 0.3879208 , -0.08794444],\n",
       "         [-0.08794444,  0.15929747]])),\n",
       " 4066: (array([3.62844135, 2.11957306]), array([[ 0.18574199, -0.1035719 ],\n",
       "         [-0.1035719 ,  0.33609805]])),\n",
       " 8122: (array([-4.0957647 ,  0.40552859]), array([[0.13425946, 0.02052814],\n",
       "         [0.02052814, 0.38115163]])),\n",
       " 646: (array([0.67894634, 3.97373738]), array([[ 0.32558236, -0.0509575 ],\n",
       "         [-0.0509575 ,  0.13378622]])),\n",
       " 1720: (array([-1.74136538,  2.91159086]), array([[0.33151825, 0.10312127],\n",
       "         [0.10312127, 0.21962862]])),\n",
       " 2619: (array([ 0.59437907, -1.73973752]), array([[0.5352297 , 0.0517818 ],\n",
       "         [0.0517818 , 0.40781183]])),\n",
       " 2586: (array([-2.02400495, -0.98136202]), array([[ 0.35435275, -0.07652886],\n",
       "         [-0.07652886,  0.47766791]])),\n",
       " 3797: (array([ 2.36046101, -0.02363311]), array([[ 0.28111202, -0.01066245],\n",
       "         [-0.01066245,  0.50972646]])),\n",
       " 9451: (array([1.50761672, 2.01950258]), array([[ 0.39302407, -0.10833541],\n",
       "         [-0.10833541,  0.3284316 ]]))}"
      ]
     },
     "execution_count": 15,
     "metadata": {},
     "output_type": "execute_result"
    }
   ],
   "source": [
    "f"
   ]
  },
  {
   "cell_type": "code",
   "execution_count": 73,
   "metadata": {},
   "outputs": [],
   "source": [
    "\n",
    "def plot_balls(data, b):\n",
    "    @interact\n",
    "    def F(ind=(0,len(b)-1,1)):        \n",
    "        plt.scatter(data[:,0], data[:,1])\n",
    "        center = list(b.keys())[ind]\n",
    "        pts = b[center]\n",
    "        plt.scatter(data[pts,0], data[pts,1], color='red')\n",
    "    "
   ]
  },
  {
   "cell_type": "code",
   "execution_count": 87,
   "metadata": {},
   "outputs": [],
   "source": [
    "def plot_knns(data, nns):\n",
    "    @interact\n",
    "    def F(ind=(0,len(nns)-1,1)):        \n",
    "        plt.scatter(data[:,0], data[:,1])\n",
    "        center = list(k.keys())[ind]\n",
    "        pts = k[center]\n",
    "        plt.scatter(data[pts,0], data[pts,1], color='red')\n",
    "        plt.scatter(data[center,0],data[center,1],color='purple')\n",
    "    "
   ]
  },
  {
   "cell_type": "code",
   "execution_count": 51,
   "metadata": {},
   "outputs": [
    {
     "data": {
      "text/plain": [
       "<scipy.stats._distn_infrastructure.rv_frozen at 0x11cee1b50>"
      ]
     },
     "execution_count": 51,
     "metadata": {},
     "output_type": "execute_result"
    }
   ],
   "source": [
    "gamma(10)"
   ]
  },
  {
   "cell_type": "code",
   "execution_count": 252,
   "metadata": {
    "scrolled": true
   },
   "outputs": [
    {
     "data": {
      "application/vnd.jupyter.widget-view+json": {
       "model_id": "fa141a69f7b84bc3ade463cba732639d",
       "version_major": 2,
       "version_minor": 0
      },
      "text/plain": [
       "interactive(children=(IntSlider(value=2, description='ind', max=5), Output()), _dom_classes=('widget-interact'…"
      ]
     },
     "metadata": {},
     "output_type": "display_data"
    }
   ],
   "source": [
    "plot_balls(pts,b)"
   ]
  },
  {
   "cell_type": "code",
   "execution_count": 90,
   "metadata": {},
   "outputs": [
    {
     "data": {
      "application/vnd.jupyter.widget-view+json": {
       "model_id": "ff3fc3d5a3a746e4bfc0fef6eaf5a9df",
       "version_major": 2,
       "version_minor": 0
      },
      "text/plain": [
       "interactive(children=(IntSlider(value=49, description='ind', max=99), Output()), _dom_classes=('widget-interac…"
      ]
     },
     "metadata": {},
     "output_type": "display_data"
    }
   ],
   "source": [
    "plot_knns(pts, k)"
   ]
  },
  {
   "cell_type": "code",
   "execution_count": 215,
   "metadata": {},
   "outputs": [],
   "source": [
    "h = []"
   ]
  },
  {
   "cell_type": "code",
   "execution_count": 217,
   "metadata": {},
   "outputs": [],
   "source": [
    "heappush(h,2)"
   ]
  },
  {
   "cell_type": "code",
   "execution_count": 218,
   "metadata": {},
   "outputs": [
    {
     "data": {
      "text/plain": [
       "[2]"
      ]
     },
     "execution_count": 218,
     "metadata": {},
     "output_type": "execute_result"
    }
   ],
   "source": [
    "h"
   ]
  },
  {
   "cell_type": "code",
   "execution_count": 219,
   "metadata": {},
   "outputs": [
    {
     "data": {
      "text/plain": [
       "2"
      ]
     },
     "execution_count": 219,
     "metadata": {},
     "output_type": "execute_result"
    }
   ],
   "source": [
    "heappop(h)"
   ]
  },
  {
   "cell_type": "code",
   "execution_count": 220,
   "metadata": {},
   "outputs": [
    {
     "data": {
      "text/plain": [
       "[]"
      ]
     },
     "execution_count": 220,
     "metadata": {},
     "output_type": "execute_result"
    }
   ],
   "source": [
    "h"
   ]
  },
  {
   "cell_type": "code",
   "execution_count": 221,
   "metadata": {},
   "outputs": [
    {
     "ename": "NameError",
     "evalue": "name 'h_' is not defined",
     "output_type": "error",
     "traceback": [
      "\u001b[0;31m---------------------------------------------------------------------------\u001b[0m",
      "\u001b[0;31mNameError\u001b[0m                                 Traceback (most recent call last)",
      "\u001b[0;32m<ipython-input-221-c02c92a69c38>\u001b[0m in \u001b[0;36m<module>\u001b[0;34m\u001b[0m\n\u001b[0;32m----> 1\u001b[0;31m \u001b[0mlen\u001b[0m\u001b[0;34m(\u001b[0m\u001b[0mh_\u001b[0m\u001b[0;34m)\u001b[0m\u001b[0;34m\u001b[0m\u001b[0;34m\u001b[0m\u001b[0m\n\u001b[0m",
      "\u001b[0;31mNameError\u001b[0m: name 'h_' is not defined"
     ]
    }
   ],
   "source": [
    "len(h_)"
   ]
  },
  {
   "cell_type": "code",
   "execution_count": 222,
   "metadata": {},
   "outputs": [
    {
     "data": {
      "text/plain": [
       "0"
      ]
     },
     "execution_count": 222,
     "metadata": {},
     "output_type": "execute_result"
    }
   ],
   "source": [
    "len(h)"
   ]
  },
  {
   "cell_type": "code",
   "execution_count": null,
   "metadata": {},
   "outputs": [],
   "source": []
  }
 ],
 "metadata": {
  "kernelspec": {
   "display_name": "Python 3",
   "language": "python",
   "name": "python3"
  },
  "language_info": {
   "codemirror_mode": {
    "name": "ipython",
    "version": 3
   },
   "file_extension": ".py",
   "mimetype": "text/x-python",
   "name": "python",
   "nbconvert_exporter": "python",
   "pygments_lexer": "ipython3",
   "version": "3.7.4"
  }
 },
 "nbformat": 4,
 "nbformat_minor": 2
}
