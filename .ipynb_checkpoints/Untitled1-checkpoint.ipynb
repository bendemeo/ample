{
 "cells": [
  {
   "cell_type": "code",
   "execution_count": 156,
   "metadata": {},
   "outputs": [],
   "source": [
    "import numpy as np\n",
    "import matplotlib.pyplot as plt\n",
    "from heapq import heappop, heappush, heapify\n",
    "from ipywidgets import interact, interact_manual\n",
    "from scipy.special import gamma\n",
    "from sklearn.datasets import make_spd_matrix\n",
    "from sklearn.metrics import pairwise_distances\n",
    "from scipy.stats import multivariate_normal\n",
    "import math"
   ]
  },
  {
   "cell_type": "code",
   "execution_count": 157,
   "metadata": {},
   "outputs": [],
   "source": [
    "import warnings\n",
    "import os\n",
    "warnings.simplefilter('ignore')\n",
    "\n",
    "os.chdir('/Users/bdemeo/Documents/bergerlab/lsh/ample/bin')\n",
    "from norms import *\n",
    "from dataset import *\n",
    "from datatools import *\n",
    "\n",
    "os.chdir('/Users/bdemeo/Documents/bergerlab/lsh/ample')"
   ]
  },
  {
   "cell_type": "code",
   "execution_count": 138,
   "metadata": {
    "scrolled": true
   },
   "outputs": [],
   "source": [
    "def ft_tree(data, root=None, inds=None, splits=2, distfunc = euclidean, min_dist=float('Inf')):\n",
    "    numObs, numFeatures = data.shape\n",
    "    if inds is None:\n",
    "        inds = list(range(numObs))\n",
    "    \n",
    "    if root is None:\n",
    "        root = np.random.choice(numObs)\n",
    "    \n",
    "    if numObs == 1: #base case, single point\n",
    "        return((0, inds[0]))\n",
    "    else:\n",
    "        #split into voronoi cells\n",
    "        cells = voronoi(data, n_cells=splits, distfunc=distfunc, inds=inds, root=root, min_dist=min_dist)\n",
    "        result = {}\n",
    "        \n",
    "        for c in cells.keys():\n",
    "            positions = cells[c]\n",
    "            result[c] = ft_tree(data[positions,:],\n",
    "                                inds=[inds[x] for x in positions],\n",
    "                                splits=splits, distfunc=distfunc,\n",
    "                                root=c[1], min_dist = 0)\n",
    "        \n",
    "    return(result)\n",
    "            \n",
    "        "
   ]
  },
  {
   "cell_type": "code",
   "execution_count": 149,
   "metadata": {},
   "outputs": [],
   "source": [
    "def voronoi(data, n_cells, distfunc=euclidean, inds=None, return_dict=True, root=None, min_dist=float('Inf')):\n",
    "    if inds is None:\n",
    "        inds = range(data.shape[0])\n",
    "    \n",
    "    cells = {}\n",
    "    not_sampled = list(range(data.shape[0]))\n",
    "    min_dists = [float('Inf')] * data.shape[0]\n",
    "    closest_centers = [0]*data.shape[0]\n",
    "    dist_to_closest = [min_dist]*data.shape[0]\n",
    "    \n",
    "    for i in range(n_cells):\n",
    "        if i == 0: #first one, choose at random\n",
    "            if root is not None:\n",
    "                next_pos = inds.index(root)\n",
    "            else:\n",
    "                next_pos = np.random.choice(list(range(len(not_sampled))))\n",
    "        else:\n",
    "            next_pos = min_dists.index(max(min_dists))\n",
    "        \n",
    "        next_center = not_sampled[next_pos]\n",
    "        closest_centers[next_center] = inds[next_center]\n",
    "#         dist_to_closest[next_center] = 0\n",
    "        \n",
    "        del not_sampled[next_pos]\n",
    "        del min_dists[next_pos]\n",
    "        \n",
    "        for pos,ind in enumerate(not_sampled):\n",
    "            cur_dist = distfunc(data[ind,:], data[next_center,:])\n",
    "            \n",
    "            if cur_dist < min_dists[pos]:\n",
    "                min_dists[pos] = cur_dist\n",
    "                closest_centers[ind] = inds[next_center]\n",
    "                dist_to_closest[ind] = cur_dist\n",
    "                \n",
    "        if len(not_sampled) == 0:\n",
    "            break\n",
    "            \n",
    "    \n",
    "    if(return_dict): #convert to dictionary\n",
    "        cells = {(-1*dist_to_closest[inds.index(i)],i):[] for i in np.unique(closest_centers)}\n",
    "        for i,c in enumerate(closest_centers):\n",
    "            cells[(-1*dist_to_closest[inds.index(c)],c)].append(i)\n",
    "        return cells\n",
    "    else:\n",
    "        return(closest_centers)\n",
    "                \n",
    "            \n",
    "        "
   ]
  },
  {
   "cell_type": "code",
   "execution_count": 150,
   "metadata": {},
   "outputs": [],
   "source": [
    "def ball_cover(data, n_balls, distfunc):\n",
    "    \"\"\"produce an efficient covering by n_balls balls using far traversals\"\"\"\n",
    "    \n",
    "    balls = {} #dict of {index: neighboring indices}\n",
    "    rad = float('Inf') #current covering radius\n",
    "    not_sampled = list(range(data.shape[0]))\n",
    "    min_dists = [float('Inf')] * data.shape[0]\n",
    "    \n",
    "    \n",
    "    while(len(balls) <= n_balls):\n",
    "        if len(balls) == 0: #first one, choose center at random\n",
    "            next_pos = np.random.choice(list(range(len(not_sampled))))\n",
    "        else:\n",
    "            next_pos = min_dists.index(rad)\n",
    "        \n",
    "        next_center = not_sampled[next_pos]\n",
    "        balls[next_center] = [(0,next_center)]\n",
    "        \n",
    "        del not_sampled[next_pos]\n",
    "        del min_dists[next_pos]\n",
    "        \n",
    "        for pos,ind in enumerate(not_sampled):\n",
    "            cur_dist = distfunc(data[ind,:],data[next_center,:])\n",
    "            if cur_dist < rad:\n",
    "                heappush(balls[next_center], (-1*cur_dist, ind))\n",
    "            if cur_dist < min_dists[pos]:\n",
    "                min_dists[pos] = cur_dist\n",
    "        \n",
    "        rad = max(min_dists) #update covering radius\n",
    "        \n",
    "        for ball in list(balls.keys()):\n",
    "            pts = balls[ball]\n",
    "            dist = float('Inf')\n",
    "            while(dist >= rad):\n",
    "                furthest_pt = heappop(pts)\n",
    "                dist = -1*furthest_pt[0]\n",
    "                      \n",
    "            \n",
    "            heappush(pts, furthest_pt) #put back the last one\n",
    "            balls[ball] = pts\n",
    "    \n",
    "        #elim distance info\n",
    "    balls = {b:[y[1] for y in x] for b,x in balls.items()}\n",
    "    \n",
    "    return((balls,rad))"
   ]
  },
  {
   "cell_type": "code",
   "execution_count": 158,
   "metadata": {},
   "outputs": [],
   "source": [
    "def ft_sample(tree, size):\n",
    "    heap = heapify(list(tree.keys()))\n",
    "    sample = []\n",
    "    cur_dict = tree\n",
    "    \n",
    "    while(len(sample) <= size):\n",
    "        new = heappop(heap)\n",
    "        sample.append(new[1])\n",
    "        \n",
    "        #update tree and heap\n",
    "        newdict = cur_dict[new]\n",
    "        if type(newdict) is dict: #unpack\n",
    "            for k in list(newdict.keys()):\n",
    "                cur_dict[k] = newdict[k]\n",
    "                heappush(heap, k)\n",
    "        else: #just a leaf tuple; push onto heap\n",
    "            heappush(heap,newdict)\n",
    "            del cur_dict[new]\n",
    "        \n",
    "    return(sample)\n",
    "        \n",
    "        \n",
    "        "
   ]
  },
  {
   "cell_type": "code",
   "execution_count": 16,
   "metadata": {},
   "outputs": [],
   "source": [
    "pbmc = open_data('pbmc')"
   ]
  },
  {
   "cell_type": "code",
   "execution_count": 25,
   "metadata": {},
   "outputs": [],
   "source": [
    "pbmc = pbmc.subsamples['ft'][:1000]"
   ]
  },
  {
   "cell_type": "code",
   "execution_count": 133,
   "metadata": {},
   "outputs": [],
   "source": [
    "cells = voronoi(np.array(pbmc.data)[:,:pbmc.numFeatures], n_cells=20)"
   ]
  },
  {
   "cell_type": "code",
   "execution_count": 134,
   "metadata": {
    "scrolled": true
   },
   "outputs": [
    {
     "data": {
      "text/plain": [
       "dict_keys([(1.1890604193809067, 1), (1.2744510496337376, 2), (1.164730337707344, 3), (1.0926319380645644, 4), (0.9821338239671665, 5), (0.8192927840235142, 6), (0.8305725917008903, 9), (0.7893854145433786, 11), (0.7744528135562206, 19), (0.7302067402823029, 20), (0.7629355023854277, 21), (0.7461251486393516, 35), (0.7604125992256876, 52), (0.7681874439266194, 127), (0.7672148105795699, 149), (0.7287219031370515, 150), (inf, 284), (0.7553037696128867, 585), (0.9665727091232548, 687), (0.8819362580375069, 921)])"
      ]
     },
     "execution_count": 134,
     "metadata": {},
     "output_type": "execute_result"
    }
   ],
   "source": [
    "cells.keys()"
   ]
  },
  {
   "cell_type": "code",
   "execution_count": 151,
   "metadata": {
    "scrolled": false
   },
   "outputs": [],
   "source": [
    "ft = ft_tree(np.array(pbmc.data)[:,:pbmc.numFeatures])"
   ]
  },
  {
   "cell_type": "code",
   "execution_count": 152,
   "metadata": {},
   "outputs": [
    {
     "data": {
      "text/plain": [
       "dict_keys([(-1.1656681359035268, 3), (-inf, 465)])"
      ]
     },
     "execution_count": 152,
     "metadata": {},
     "output_type": "execute_result"
    }
   ],
   "source": [
    "ft.keys()"
   ]
  },
  {
   "cell_type": "code",
   "execution_count": 159,
   "metadata": {
    "scrolled": true
   },
   "outputs": [
    {
     "ename": "TypeError",
     "evalue": "heap argument must be a list",
     "output_type": "error",
     "traceback": [
      "\u001b[0;31m---------------------------------------------------------------------------\u001b[0m",
      "\u001b[0;31mTypeError\u001b[0m                                 Traceback (most recent call last)",
      "\u001b[0;32m<ipython-input-159-b5b4e71d4b7d>\u001b[0m in \u001b[0;36m<module>\u001b[0;34m\u001b[0m\n\u001b[0;32m----> 1\u001b[0;31m \u001b[0mft_sample\u001b[0m\u001b[0;34m(\u001b[0m\u001b[0mft\u001b[0m\u001b[0;34m,\u001b[0m\u001b[0;36m20\u001b[0m\u001b[0;34m)\u001b[0m\u001b[0;34m\u001b[0m\u001b[0;34m\u001b[0m\u001b[0m\n\u001b[0m",
      "\u001b[0;32m<ipython-input-158-422d05bc9b76>\u001b[0m in \u001b[0;36mft_sample\u001b[0;34m(tree, size)\u001b[0m\n\u001b[1;32m      5\u001b[0m \u001b[0;34m\u001b[0m\u001b[0m\n\u001b[1;32m      6\u001b[0m     \u001b[0;32mwhile\u001b[0m\u001b[0;34m(\u001b[0m\u001b[0mlen\u001b[0m\u001b[0;34m(\u001b[0m\u001b[0msample\u001b[0m\u001b[0;34m)\u001b[0m \u001b[0;34m<=\u001b[0m \u001b[0msize\u001b[0m\u001b[0;34m)\u001b[0m\u001b[0;34m:\u001b[0m\u001b[0;34m\u001b[0m\u001b[0;34m\u001b[0m\u001b[0m\n\u001b[0;32m----> 7\u001b[0;31m         \u001b[0mnew\u001b[0m \u001b[0;34m=\u001b[0m \u001b[0mheappop\u001b[0m\u001b[0;34m(\u001b[0m\u001b[0mheap\u001b[0m\u001b[0;34m)\u001b[0m\u001b[0;34m\u001b[0m\u001b[0;34m\u001b[0m\u001b[0m\n\u001b[0m\u001b[1;32m      8\u001b[0m         \u001b[0msample\u001b[0m\u001b[0;34m.\u001b[0m\u001b[0mappend\u001b[0m\u001b[0;34m(\u001b[0m\u001b[0mnew\u001b[0m\u001b[0;34m[\u001b[0m\u001b[0;36m1\u001b[0m\u001b[0;34m]\u001b[0m\u001b[0;34m)\u001b[0m\u001b[0;34m\u001b[0m\u001b[0;34m\u001b[0m\u001b[0m\n\u001b[1;32m      9\u001b[0m \u001b[0;34m\u001b[0m\u001b[0m\n",
      "\u001b[0;31mTypeError\u001b[0m: heap argument must be a list"
     ]
    }
   ],
   "source": [
    "ft_sample(ft,20)"
   ]
  },
  {
   "cell_type": "code",
   "execution_count": null,
   "metadata": {},
   "outputs": [],
   "source": []
  }
 ],
 "metadata": {
  "kernelspec": {
   "display_name": "Python 3",
   "language": "python",
   "name": "python3"
  },
  "language_info": {
   "codemirror_mode": {
    "name": "ipython",
    "version": 3
   },
   "file_extension": ".py",
   "mimetype": "text/x-python",
   "name": "python",
   "nbconvert_exporter": "python",
   "pygments_lexer": "ipython3",
   "version": "3.7.4"
  }
 },
 "nbformat": 4,
 "nbformat_minor": 2
}
