{
 "cells": [
  {
   "cell_type": "code",
   "execution_count": 1,
   "metadata": {},
   "outputs": [],
   "source": [
    "import numpy as np\n",
    "import matplotlib.pyplot as plt\n",
    "from heapq import heappop, heappush, heapify\n",
    "from ipywidgets import interact, interact_manual\n",
    "from scipy.special import gamma\n",
    "from sklearn.datasets import make_spd_matrix\n",
    "from sklearn.metrics import pairwise_distances\n",
    "from scipy.stats import multivariate_normal\n",
    "import math\n",
    "from copy import deepcopy"
   ]
  },
  {
   "cell_type": "code",
   "execution_count": 2,
   "metadata": {},
   "outputs": [],
   "source": [
    "import warnings\n",
    "import os\n",
    "warnings.simplefilter('ignore')\n",
    "\n",
    "os.chdir('/Users/bdemeo/Documents/bergerlab/lsh/ample/bin')\n",
    "from norms import *\n",
    "from dataset import *\n",
    "from datatools import *\n",
    "\n",
    "os.chdir('/Users/bdemeo/Documents/bergerlab/lsh/ample')"
   ]
  },
  {
   "cell_type": "code",
   "execution_count": 3,
   "metadata": {
    "scrolled": true
   },
   "outputs": [],
   "source": [
    "def ft_tree(data, root=None, inds=None, splits=2, distfunc = euclidean, min_dist=float('Inf')):\n",
    "    numObs, numFeatures = data.shape\n",
    "    if inds is None:\n",
    "        inds = list(range(numObs))\n",
    "    \n",
    "    if root is None:\n",
    "        root = np.random.choice(numObs)\n",
    "    \n",
    "    if numObs == 1: #base case, single point\n",
    "        return((0, inds[0]))\n",
    "    else:\n",
    "        #split into voronoi cells\n",
    "        cells = voronoi(data, n_cells=splits, distfunc=distfunc, inds=inds, root=root, min_dist=min_dist)\n",
    "        result = {}\n",
    "        \n",
    "        for c in cells.keys():\n",
    "            positions = cells[c]\n",
    "            result[c] = ft_tree(data[positions,:],\n",
    "                                inds=[inds[x] for x in positions],\n",
    "                                splits=splits, distfunc=distfunc,\n",
    "                                root=c[1], min_dist = 0)\n",
    "        \n",
    "    return(result)\n",
    "            \n",
    "        "
   ]
  },
  {
   "cell_type": "code",
   "execution_count": 4,
   "metadata": {},
   "outputs": [],
   "source": [
    "def voronoi(data, n_cells, distfunc=euclidean, inds=None, return_dict=True, root=None, min_dist=float('Inf')):\n",
    "    if inds is None:\n",
    "        inds = range(data.shape[0])\n",
    "    \n",
    "    cells = {}\n",
    "    not_sampled = list(range(data.shape[0]))\n",
    "    min_dists = [float('Inf')] * data.shape[0]\n",
    "    closest_centers = [0]*data.shape[0]\n",
    "    dist_to_closest = [min_dist]*data.shape[0]\n",
    "    \n",
    "    for i in range(n_cells):\n",
    "        if i == 0: #first one, choose at random\n",
    "            if root is not None:\n",
    "                next_pos = inds.index(root)\n",
    "            else:\n",
    "                next_pos = np.random.choice(list(range(len(not_sampled))))\n",
    "        else:\n",
    "            next_pos = min_dists.index(max(min_dists))\n",
    "        \n",
    "        next_center = not_sampled[next_pos]\n",
    "        closest_centers[next_center] = inds[next_center]\n",
    "#         dist_to_closest[next_center] = 0\n",
    "        \n",
    "        del not_sampled[next_pos]\n",
    "        del min_dists[next_pos]\n",
    "        \n",
    "        for pos,ind in enumerate(not_sampled):\n",
    "            cur_dist = distfunc(data[ind,:], data[next_center,:])\n",
    "            \n",
    "            if cur_dist < min_dists[pos]:\n",
    "                min_dists[pos] = cur_dist\n",
    "                closest_centers[ind] = inds[next_center]\n",
    "                dist_to_closest[ind] = cur_dist\n",
    "                \n",
    "        if len(not_sampled) == 0:\n",
    "            break\n",
    "            \n",
    "    \n",
    "    if(return_dict): #convert to dictionary\n",
    "        cells = {(-1*dist_to_closest[inds.index(i)],i):[] for i in np.unique(closest_centers)}\n",
    "        for i,c in enumerate(closest_centers):\n",
    "            cells[(-1*dist_to_closest[inds.index(c)],c)].append(i)\n",
    "        return cells\n",
    "    else:\n",
    "        return(closest_centers)\n",
    "                \n",
    "            \n",
    "        "
   ]
  },
  {
   "cell_type": "code",
   "execution_count": 5,
   "metadata": {
    "code_folding": [
     0
    ]
   },
   "outputs": [],
   "source": [
    "def ball_cover(data, n_balls, distfunc):\n",
    "    \"\"\"produce an efficient covering by n_balls balls using far traversals\"\"\"\n",
    "    \n",
    "    balls = {} #dict of {index: neighboring indices}\n",
    "    rad = float('Inf') #current covering radius\n",
    "    not_sampled = list(range(data.shape[0]))\n",
    "    min_dists = [float('Inf')] * data.shape[0]\n",
    "    \n",
    "    \n",
    "    while(len(balls) <= n_balls):\n",
    "        if len(balls) == 0: #first one, choose center at random\n",
    "            next_pos = np.random.choice(list(range(len(not_sampled))))\n",
    "        else:\n",
    "            next_pos = min_dists.index(rad)\n",
    "        \n",
    "        next_center = not_sampled[next_pos]\n",
    "        balls[next_center] = [(0,next_center)]\n",
    "        \n",
    "        del not_sampled[next_pos]\n",
    "        del min_dists[next_pos]\n",
    "        \n",
    "        for pos,ind in enumerate(not_sampled):\n",
    "            cur_dist = distfunc(data[ind,:],data[next_center,:])\n",
    "            if cur_dist < rad:\n",
    "                heappush(balls[next_center], (-1*cur_dist, ind))\n",
    "            if cur_dist < min_dists[pos]:\n",
    "                min_dists[pos] = cur_dist\n",
    "        \n",
    "        rad = max(min_dists) #update covering radius\n",
    "        \n",
    "        for ball in list(balls.keys()):\n",
    "            pts = balls[ball]\n",
    "            dist = float('Inf')\n",
    "            while(dist >= rad):\n",
    "                furthest_pt = heappop(pts)\n",
    "                dist = -1*furthest_pt[0]\n",
    "                      \n",
    "            \n",
    "            heappush(pts, furthest_pt) #put back the last one\n",
    "            balls[ball] = pts\n",
    "    \n",
    "        #elim distance info\n",
    "    balls = {b:[y[1] for y in x] for b,x in balls.items()}\n",
    "    \n",
    "    return((balls,rad))"
   ]
  },
  {
   "cell_type": "code",
   "execution_count": 6,
   "metadata": {},
   "outputs": [],
   "source": [
    "def ft_sample(tree, size):\n",
    "    heap = []\n",
    "    sample = []\n",
    "    cur_dict = deepcopy(tree)\n",
    "    \n",
    "    #build heap from the tree\n",
    "    while len(cur_dict) > 0:\n",
    "        new_dict = {}\n",
    "        for k in list(cur_dict.keys()):\n",
    "            if type(cur_dict[k]) is dict:\n",
    "                new_dict.update(cur_dict[k])\n",
    "            if k[0] < 0:\n",
    "                heappush(heap,k)\n",
    "        #print(list(new_dict.keys()))\n",
    "        cur_dict = new_dict\n",
    "    \n",
    "    \n",
    "    while(len(sample) < size):\n",
    "        sample.append(heappop(heap)[1])\n",
    "        \n",
    "    return(sample)\n",
    "    \n",
    "        \n",
    "        "
   ]
  },
  {
   "cell_type": "code",
   "execution_count": 21,
   "metadata": {},
   "outputs": [],
   "source": [
    "def cell_type_matrix(voronoi_labels, cell_labels):\n",
    "    \n",
    "    vlabs = np.unique(voronoi_labels)\n",
    "    clabs = np.unique(cell_labels)\n",
    "    result = np.zeros((len(vlabs), len(clabs)))\n",
    "    for i in range(len(vlabs)):\n",
    "        #find cells with this voronoi cell\n",
    "        cell_labs = np.array([cell_labels[x] for x in range(len(cell_labels)) if voronoi_labels[x]==vlabs[i]])  \n",
    "        for j in range(len(clabs)):\n",
    "            result[i,j]=np.sum([cell_labs[x] == clabs[j] for x in range(len(cell_labs))])\n",
    "            \n",
    "    return(result)"
   ]
  },
  {
   "cell_type": "code",
   "execution_count": 8,
   "metadata": {
    "scrolled": true
   },
   "outputs": [],
   "source": [
    "pbmc = open_data('pbmc', annos=['labels'])"
   ]
  },
  {
   "cell_type": "code",
   "execution_count": 9,
   "metadata": {},
   "outputs": [],
   "source": [
    "pbmc_small = pbmc.subsamples['ft'][:10000]"
   ]
  },
  {
   "cell_type": "code",
   "execution_count": 10,
   "metadata": {},
   "outputs": [],
   "source": [
    "pbmc_raw = np.array(pbmc_small.data)[:,:pbmc.numFeatures]"
   ]
  },
  {
   "cell_type": "code",
   "execution_count": 30,
   "metadata": {},
   "outputs": [],
   "source": [
    "vlabs = voronoi(pbmc_raw, n_cells=300, distfunc=euclidean, return_dict=False)"
   ]
  },
  {
   "cell_type": "code",
   "execution_count": 31,
   "metadata": {},
   "outputs": [],
   "source": [
    "clabs = list(pbmc_small.data['labels'])"
   ]
  },
  {
   "cell_type": "code",
   "execution_count": 37,
   "metadata": {},
   "outputs": [
    {
     "data": {
      "text/plain": [
       "array(['CD14+_Monocyte', 'CD19+_B', 'CD4+/CD25_T_Reg',\n",
       "       'CD4+/CD45RA+/CD25-_Naive_T', 'CD4+/CD45RO+_Memory',\n",
       "       'CD4+_T_Helper2', 'CD56+_NK', 'CD8+/CD45RA+_Naive_Cytotoxic',\n",
       "       'CD8+_Cytotoxic_T', 'Dendritic'], dtype='<U28')"
      ]
     },
     "execution_count": 37,
     "metadata": {},
     "output_type": "execute_result"
    }
   ],
   "source": [
    "np.unique(clabs)"
   ]
  },
  {
   "cell_type": "code",
   "execution_count": 32,
   "metadata": {},
   "outputs": [],
   "source": [
    "m = cell_type_matrix(vlabs, clabs)"
   ]
  },
  {
   "cell_type": "code",
   "execution_count": 33,
   "metadata": {
    "scrolled": true
   },
   "outputs": [
    {
     "data": {
      "text/plain": [
       "(300, 10)"
      ]
     },
     "execution_count": 33,
     "metadata": {},
     "output_type": "execute_result"
    }
   ],
   "source": [
    "m.shape"
   ]
  },
  {
   "cell_type": "code",
   "execution_count": 34,
   "metadata": {
    "scrolled": true
   },
   "outputs": [
    {
     "data": {
      "text/plain": [
       "<matplotlib.image.AxesImage at 0x11edbd790>"
      ]
     },
     "execution_count": 34,
     "metadata": {},
     "output_type": "execute_result"
    },
    {
     "data": {
      "image/png": "[encoded data removed]",
      "text/plain": [
       "<Figure size 432x288 with 1 Axes>"
      ]
     },
     "metadata": {
      "needs_background": "light"
     },
     "output_type": "display_data"
    }
   ],
   "source": [
    "plt.imshow(m)"
   ]
  },
  {
   "cell_type": "code",
   "execution_count": 36,
   "metadata": {},
   "outputs": [
    {
     "data": {
      "text/plain": [
       "array([[ 0.,  0.,  0.,  0.,  0.,  0.,  0.,  0.,  0.,  5.],\n",
       "       [ 0.,  0.,  0.,  0.,  0.,  0.,  1.,  0.,  0.,  0.],\n",
       "       [ 0.,  4.,  0.,  0.,  0.,  0.,  0.,  0.,  0.,  0.],\n",
       "       [ 0.,  0.,  0.,  1.,  0.,  1.,  1.,  0.,  0.,  0.],\n",
       "       [ 0.,  1.,  0.,  0.,  0.,  0.,  0.,  0.,  0.,  0.],\n",
       "       [ 0.,  0.,  0.,  0.,  0.,  0.,  1.,  0.,  0.,  0.],\n",
       "       [ 0.,  0.,  1.,  3.,  0.,  6., 18., 32.,  0.,  0.],\n",
       "       [ 0.,  0.,  1.,  1.,  2.,  0., 14.,  0.,  0.,  0.],\n",
       "       [ 0.,  0.,  0.,  0.,  0.,  1.,  0.,  0.,  0.,  0.],\n",
       "       [ 0.,  0.,  0.,  0.,  0.,  0.,  0.,  0.,  9.,  0.],\n",
       "       [ 0.,  0.,  0.,  0.,  0.,  0.,  0.,  0.,  1.,  0.],\n",
       "       [ 0.,  1.,  0.,  0.,  0.,  0.,  0.,  0.,  1.,  0.],\n",
       "       [ 0.,  4.,  0.,  0.,  0.,  0.,  0.,  0.,  0.,  0.],\n",
       "       [ 4.,  1.,  0.,  0.,  0.,  0.,  0.,  0.,  0.,  0.],\n",
       "       [ 0.,  0.,  0.,  1.,  0.,  0.,  0.,  1.,  0.,  0.],\n",
       "       [ 0.,  0.,  0.,  0.,  1.,  0.,  0.,  0.,  0.,  0.],\n",
       "       [ 0.,  3.,  0.,  1.,  0.,  0.,  0.,  0.,  0.,  0.],\n",
       "       [ 0.,  0.,  0.,  0.,  0.,  0.,  1.,  0., 29.,  0.],\n",
       "       [ 0.,  1.,  0.,  0.,  0.,  0.,  0.,  0.,  1.,  0.],\n",
       "       [ 0.,  0.,  0.,  0.,  0.,  0.,  2.,  2.,  0.,  0.],\n",
       "       [ 0.,  4.,  0.,  0.,  1.,  0.,  0.,  0.,  1.,  0.],\n",
       "       [ 0.,  4.,  0.,  0.,  0.,  0.,  0.,  0.,  0.,  0.],\n",
       "       [ 0.,  1.,  0.,  0.,  0.,  0.,  0.,  0.,  0.,  0.],\n",
       "       [ 0.,  0.,  0.,  1.,  0.,  1.,  2.,  0.,  0.,  0.],\n",
       "       [13.,  0.,  0.,  0.,  0.,  0.,  0.,  0.,  0.,  0.],\n",
       "       [ 0.,  0.,  0.,  0.,  0.,  0.,  0.,  0.,  1.,  0.],\n",
       "       [ 0.,  0.,  0.,  0.,  1.,  0.,  0.,  0.,  0.,  0.],\n",
       "       [ 0.,  6.,  0.,  0.,  0.,  0.,  0.,  0.,  2.,  0.],\n",
       "       [ 0.,  4.,  0.,  0.,  0.,  2.,  1.,  3.,  2.,  0.],\n",
       "       [ 0.,  0.,  0.,  0.,  0.,  0.,  0.,  0.,  2.,  0.],\n",
       "       [ 3.,  0.,  1.,  0.,  0.,  2.,  1.,  0.,  3.,  0.],\n",
       "       [ 0.,  0.,  0.,  0.,  0.,  0.,  2.,  4.,  1.,  0.],\n",
       "       [ 0.,  0.,  0.,  1.,  1.,  0., 14.,  0.,  0.,  0.],\n",
       "       [ 0.,  0.,  0.,  0.,  1.,  1.,  0.,  0.,  0.,  0.],\n",
       "       [ 0.,  8.,  0.,  0.,  0.,  0.,  0.,  0.,  1.,  0.],\n",
       "       [ 0.,  1.,  0.,  0.,  0.,  0.,  0.,  0.,  0.,  0.],\n",
       "       [ 0.,  1.,  0.,  0.,  0.,  0.,  0.,  0.,  1.,  0.],\n",
       "       [ 0.,  0.,  0.,  0., 13.,  2.,  0.,  0.,  0.,  0.],\n",
       "       [ 1.,  0.,  0.,  0.,  0.,  0.,  0.,  0.,  0.,  3.],\n",
       "       [ 0.,  0.,  0.,  0.,  3.,  1.,  0.,  1.,  0.,  0.],\n",
       "       [ 0.,  0.,  0.,  0.,  1., 20.,  2.,  8.,  0.,  0.],\n",
       "       [ 0.,  0.,  0.,  0.,  0.,  0.,  0.,  0.,  3.,  0.],\n",
       "       [ 0.,  0.,  0.,  0.,  1., 18.,  2.,  6.,  0.,  0.],\n",
       "       [ 0.,  0.,  0.,  0.,  0.,  1.,  8.,  8.,  0.,  0.],\n",
       "       [ 0., 11.,  0.,  0.,  0.,  0.,  0.,  0.,  1.,  0.],\n",
       "       [ 0.,  1.,  0.,  0.,  0.,  0.,  0.,  0.,  1.,  0.],\n",
       "       [ 0.,  0.,  0.,  1.,  0.,  0.,  4.,  0.,  0.,  0.],\n",
       "       [ 0.,  0.,  0.,  0.,  0.,  1.,  1.,  3.,  0.,  0.],\n",
       "       [ 0.,  0.,  0.,  0.,  0.,  0.,  3.,  0.,  0.,  0.],\n",
       "       [ 0.,  0.,  0.,  0.,  0.,  0.,  0.,  0.,  2.,  0.],\n",
       "       [ 0.,  0.,  0.,  0.,  0.,  0.,  2.,  2.,  2.,  0.],\n",
       "       [ 0.,  8.,  0.,  0.,  0.,  0.,  0.,  0.,  1.,  0.],\n",
       "       [ 0.,  1.,  0.,  0.,  0.,  0.,  0.,  0.,  4.,  0.],\n",
       "       [ 0.,  0.,  0.,  1.,  0.,  3.,  0.,  0.,  0.,  0.],\n",
       "       [ 0.,  6.,  0.,  0.,  0.,  0.,  0.,  0.,  0.,  0.],\n",
       "       [ 0.,  1.,  0.,  0.,  0.,  0.,  0.,  0.,  0.,  0.],\n",
       "       [ 0.,  0.,  0.,  0.,  0.,  0.,  0.,  0.,  2.,  0.],\n",
       "       [ 0.,  0.,  0.,  2.,  0.,  1.,  4.,  2.,  0.,  0.],\n",
       "       [ 0.,  1.,  0.,  1.,  0.,  1.,  3.,  0.,  0.,  0.],\n",
       "       [ 0.,  0.,  0.,  0.,  0.,  0.,  0.,  0., 10.,  0.],\n",
       "       [ 0.,  5.,  0.,  0.,  0.,  0.,  0.,  0.,  0.,  0.],\n",
       "       [ 0.,  0.,  0.,  0.,  0.,  0.,  0.,  0.,  1.,  0.],\n",
       "       [ 0.,  0.,  0.,  0.,  0.,  7.,  1.,  3.,  0.,  0.],\n",
       "       [ 0.,  0.,  0.,  0.,  0.,  0.,  3.,  4.,  0.,  0.],\n",
       "       [ 0.,  0.,  0.,  0.,  0.,  0.,  0.,  0.,  0.,  3.],\n",
       "       [ 0.,  0.,  0.,  0.,  0.,  0.,  0.,  0., 22.,  0.],\n",
       "       [ 0.,  3.,  0.,  0.,  0.,  0.,  0.,  0.,  1.,  0.],\n",
       "       [ 0.,  1.,  1.,  0.,  0.,  0.,  0.,  0.,  3.,  0.],\n",
       "       [ 1.,  0.,  0.,  0.,  0.,  0.,  0.,  0.,  0.,  0.],\n",
       "       [ 0.,  0.,  3.,  0.,  0.,  1.,  5., 15.,  0.,  0.],\n",
       "       [ 0.,  6.,  0.,  0.,  0.,  0.,  0.,  0.,  2.,  0.],\n",
       "       [ 9.,  0.,  0.,  0.,  0.,  0.,  0.,  0.,  1.,  0.],\n",
       "       [ 3.,  0.,  0.,  0.,  0.,  0.,  0.,  0.,  0.,  0.],\n",
       "       [ 0.,  1.,  0.,  0.,  0.,  0.,  0.,  0.,  0.,  0.],\n",
       "       [ 0.,  0.,  0.,  1.,  2.,  8.,  3.,  5.,  1.,  0.],\n",
       "       [ 0.,  6.,  0.,  0.,  0.,  0.,  0.,  0.,  0.,  0.],\n",
       "       [ 0.,  0.,  0.,  4.,  0., 13.,  5., 15.,  0.,  0.],\n",
       "       [ 0.,  0.,  0.,  0.,  5.,  2.,  0.,  0.,  0.,  0.],\n",
       "       [ 0.,  0.,  0.,  0.,  0.,  0.,  0.,  1.,  1.,  0.],\n",
       "       [ 0.,  0.,  1.,  0.,  0.,  4., 10.,  6.,  0.,  0.],\n",
       "       [ 0., 23.,  0.,  0.,  0.,  0.,  0.,  0.,  1.,  0.],\n",
       "       [ 0.,  0.,  0.,  0.,  4.,  0.,  0.,  0.,  0.,  0.],\n",
       "       [ 0.,  0.,  0.,  0.,  0.,  2.,  2.,  0.,  7.,  0.],\n",
       "       [ 0.,  0.,  0.,  0.,  0.,  1.,  1.,  0.,  6.,  0.],\n",
       "       [ 0.,  2.,  0.,  0.,  0.,  0.,  0.,  0.,  0.,  0.],\n",
       "       [ 0.,  0.,  0.,  0.,  4.,  1.,  0.,  0.,  0.,  0.],\n",
       "       [ 0.,  0.,  0.,  0., 60., 40.,  0.,  1.,  0.,  0.],\n",
       "       [ 1.,  0.,  0.,  0.,  0.,  0.,  0.,  0.,  0.,  0.],\n",
       "       [ 0.,  0.,  0.,  0.,  0.,  0.,  0.,  0.,  4.,  0.],\n",
       "       [ 0.,  4.,  0.,  0.,  0.,  0.,  0.,  0.,  1.,  0.],\n",
       "       [ 0.,  0.,  0.,  0.,  0.,  0.,  0.,  0., 22.,  0.],\n",
       "       [ 0., 16.,  0.,  0.,  0.,  0.,  0.,  0.,  0.,  0.],\n",
       "       [ 0.,  1.,  0.,  0.,  0.,  0.,  0.,  0.,  1.,  0.],\n",
       "       [ 0.,  9.,  0.,  0.,  0.,  0.,  0.,  0.,  2.,  0.],\n",
       "       [ 1.,  0.,  0.,  1.,  0.,  0.,  5., 15.,  0.,  0.],\n",
       "       [ 0.,  0.,  0.,  2.,  3., 21.,  5.,  2.,  0.,  0.],\n",
       "       [ 0.,  1.,  0.,  0.,  0.,  0.,  0.,  0.,  2.,  0.],\n",
       "       [ 0.,  2.,  0.,  0.,  0.,  0.,  0.,  0.,  0.,  0.],\n",
       "       [12.,  0.,  0.,  0.,  0.,  0.,  0.,  0.,  0.,  0.]])"
      ]
     },
     "execution_count": 36,
     "metadata": {},
     "output_type": "execute_result"
    }
   ],
   "source": [
    "m[1:100,:]"
   ]
  },
  {
   "cell_type": "code",
   "execution_count": 27,
   "metadata": {},
   "outputs": [],
   "source": [
    "%matplotlib inline"
   ]
  },
  {
   "cell_type": "code",
   "execution_count": 32,
   "metadata": {},
   "outputs": [],
   "source": [
    "pts = np.random.multivariate_normal([0,0],np.identity(2), size=10000)"
   ]
  },
  {
   "cell_type": "code",
   "execution_count": 33,
   "metadata": {},
   "outputs": [],
   "source": [
    "cells = voronoi(pts, n_cells=20, return_dict = False)"
   ]
  },
  {
   "cell_type": "code",
   "execution_count": 34,
   "metadata": {},
   "outputs": [],
   "source": [
    "data = dataset(pts); data.data['cells'] = cells"
   ]
  },
  {
   "cell_type": "code",
   "execution_count": 35,
   "metadata": {},
   "outputs": [
    {
     "name": "stdout",
     "output_type": "stream",
     "text": [
      "building tree...\n",
      "traversing tree...\n"
     ]
    }
   ],
   "source": [
    "data.make_subsample('FTSampler', name='ft')"
   ]
  },
  {
   "cell_type": "code",
   "execution_count": 53,
   "metadata": {},
   "outputs": [
    {
     "data": {
      "application/vnd.jupyter.widget-view+json": {
       "model_id": "91e11031d292439d91343174dc80dfe9",
       "version_major": 2,
       "version_minor": 0
      },
      "text/plain": [
       "interactive(children=(IntSlider(value=500, description='N', max=1000, min=1), Output()), _dom_classes=('widget…"
      ]
     },
     "metadata": {},
     "output_type": "display_data"
    }
   ],
   "source": [
    "@interact\n",
    "def see_sample(N=(1,1000,1)):\n",
    "    plt.scatter(data.data.iloc[:,0],data.data.iloc[:,1])\n",
    "    plt.scatter(data.subsamples['ft'].data.iloc[:N,0], data.subsamples['ft'].data.iloc[:N,1], color='red')"
   ]
  },
  {
   "cell_type": "code",
   "execution_count": 43,
   "metadata": {},
   "outputs": [],
   "source": [
    "ft = ft_tree(pts, splits=200)"
   ]
  },
  {
   "cell_type": "code",
   "execution_count": 44,
   "metadata": {},
   "outputs": [],
   "source": [
    "sample = ft_sample(ft, 1000)"
   ]
  },
  {
   "cell_type": "code",
   "execution_count": 52,
   "metadata": {
    "scrolled": true
   },
   "outputs": [
    {
     "data": {
      "application/vnd.jupyter.widget-view+json": {
       "model_id": "0f2bf19cb3d14478abe6f9f1e091171d",
       "version_major": 2,
       "version_minor": 0
      },
      "text/plain": [
       "interactive(children=(IntSlider(value=500, description='N', max=1000, min=1), Output()), _dom_classes=('widget…"
      ]
     },
     "metadata": {},
     "output_type": "display_data"
    }
   ],
   "source": [
    "@interact\n",
    "def see_sample(N=(1,1000,1)):\n",
    "    plt.scatter(pts[:,0],pts[:,1])\n",
    "    plt.scatter(pts[sample[:N],0], pts[sample[:N],1], color='red')"
   ]
  },
  {
   "cell_type": "code",
   "execution_count": 56,
   "metadata": {},
   "outputs": [],
   "source": [
    "def haus(data, sample):\n",
    "    dist = pairwise_distances(data[sample, :], data, n_jobs=-1)\n",
    "    return(dist.min(0).max())"
   ]
  },
  {
   "cell_type": "code",
   "execution_count": null,
   "metadata": {},
   "outputs": [],
   "source": [
    "def haus_curve(data, ordering):\n",
    "    "
   ]
  },
  {
   "cell_type": "code",
   "execution_count": 55,
   "metadata": {},
   "outputs": [],
   "source": [
    "t2 = ft_tree(pts, splits=2)\n",
    "t3 = ft_tree(pts, splits=3)"
   ]
  },
  {
   "cell_type": "code",
   "execution_count": 51,
   "metadata": {
    "scrolled": true
   },
   "outputs": [],
   "source": [
    "import matplotlib\n",
    "%matplotlib inline\n",
    "matplotlib.rcParams['figure.figsize'] = [15, 9]"
   ]
  },
  {
   "cell_type": "code",
   "execution_count": 67,
   "metadata": {
    "scrolled": true
   },
   "outputs": [],
   "source": [
    "pbmc = open_data('pbmc')"
   ]
  },
  {
   "cell_type": "code",
   "execution_count": 68,
   "metadata": {},
   "outputs": [],
   "source": [
    "pbmc_small = pbmc.subsamples['ft'][:10000]"
   ]
  },
  {
   "cell_type": "code",
   "execution_count": 69,
   "metadata": {},
   "outputs": [],
   "source": [
    "pbmc_raw = np.array(pbmc_small.data)[:,:pbmc.numFeatures]"
   ]
  },
  {
   "cell_type": "code",
   "execution_count": 70,
   "metadata": {
    "scrolled": false
   },
   "outputs": [],
   "source": [
    "ft2 = ft_tree(pbmc_raw, splits=2)"
   ]
  },
  {
   "cell_type": "code",
   "execution_count": 71,
   "metadata": {},
   "outputs": [],
   "source": [
    "ft3 = ft_tree(pbmc_raw, splits=3)"
   ]
  },
  {
   "cell_type": "code",
   "execution_count": 73,
   "metadata": {},
   "outputs": [],
   "source": [
    "ft10 = ft_tree(pbmc_raw, splits=10)"
   ]
  },
  {
   "cell_type": "code",
   "execution_count": 82,
   "metadata": {},
   "outputs": [],
   "source": [
    "ft100 = ft_tree(pbmc_raw, splits=100)"
   ]
  },
  {
   "cell_type": "code",
   "execution_count": 85,
   "metadata": {},
   "outputs": [],
   "source": [
    "f1000 = ft_tree(pbmc_raw, splits=1000)"
   ]
  },
  {
   "cell_type": "code",
   "execution_count": 74,
   "metadata": {},
   "outputs": [],
   "source": [
    "s2 = ft_sample(ft2, 1000)\n",
    "s3 = ft_sample(ft3, 1000)\n",
    "s10 = ft_sample(ft10,1000)"
   ]
  },
  {
   "cell_type": "code",
   "execution_count": 83,
   "metadata": {},
   "outputs": [],
   "source": [
    "s100 = ft_sample(ft100,1000)"
   ]
  },
  {
   "cell_type": "code",
   "execution_count": 87,
   "metadata": {},
   "outputs": [],
   "source": [
    "s1000 = ft_sample(f1000,1000)"
   ]
  },
  {
   "cell_type": "code",
   "execution_count": 77,
   "metadata": {},
   "outputs": [
    {
     "data": {
      "text/plain": [
       "0.5526982362633994"
      ]
     },
     "execution_count": 77,
     "metadata": {},
     "output_type": "execute_result"
    }
   ],
   "source": [
    "haus(pbmc_raw,s2)"
   ]
  },
  {
   "cell_type": "code",
   "execution_count": 78,
   "metadata": {},
   "outputs": [
    {
     "data": {
      "text/plain": [
       "0.5415779888737458"
      ]
     },
     "execution_count": 78,
     "metadata": {},
     "output_type": "execute_result"
    }
   ],
   "source": [
    "haus(pbmc_raw,s3)"
   ]
  },
  {
   "cell_type": "code",
   "execution_count": 79,
   "metadata": {},
   "outputs": [
    {
     "data": {
      "text/plain": [
       "0.5314048345522724"
      ]
     },
     "execution_count": 79,
     "metadata": {},
     "output_type": "execute_result"
    }
   ],
   "source": [
    "haus(pbmc_raw,s10)"
   ]
  },
  {
   "cell_type": "code",
   "execution_count": 84,
   "metadata": {},
   "outputs": [
    {
     "data": {
      "text/plain": [
       "0.5210064748971186"
      ]
     },
     "execution_count": 84,
     "metadata": {},
     "output_type": "execute_result"
    }
   ],
   "source": [
    "haus(pbmc_raw, s100)"
   ]
  },
  {
   "cell_type": "code",
   "execution_count": 88,
   "metadata": {},
   "outputs": [
    {
     "data": {
      "text/plain": [
       "0.49399075433098233"
      ]
     },
     "execution_count": 88,
     "metadata": {},
     "output_type": "execute_result"
    }
   ],
   "source": [
    "haus(pbmc_raw, s1000)"
   ]
  },
  {
   "cell_type": "code",
   "execution_count": 81,
   "metadata": {},
   "outputs": [
    {
     "data": {
      "text/plain": [
       "0.49312674977525356"
      ]
     },
     "execution_count": 81,
     "metadata": {},
     "output_type": "execute_result"
    }
   ],
   "source": [
    "haus(pbmc_raw, list(range(1000)))"
   ]
  },
  {
   "cell_type": "code",
   "execution_count": 184,
   "metadata": {},
   "outputs": [],
   "source": [
    "heapify(list(ft.keys()))"
   ]
  },
  {
   "cell_type": "code",
   "execution_count": 242,
   "metadata": {
    "scrolled": false
   },
   "outputs": [],
   "source": [
    "heap = ft_sample(ft,20)"
   ]
  },
  {
   "cell_type": "code",
   "execution_count": 243,
   "metadata": {},
   "outputs": [
    {
     "data": {
      "text/plain": [
       "[808,\n",
       " 2,\n",
       " 891,\n",
       " 14,\n",
       " 182,\n",
       " 172,\n",
       " 4,\n",
       " 125,\n",
       " 76,\n",
       " 490,\n",
       " 3,\n",
       " 16,\n",
       " 8,\n",
       " 523,\n",
       " 52,\n",
       " 843,\n",
       " 207,\n",
       " 222,\n",
       " 32,\n",
       " 96]"
      ]
     },
     "execution_count": 243,
     "metadata": {},
     "output_type": "execute_result"
    }
   ],
   "source": [
    "heap"
   ]
  },
  {
   "cell_type": "code",
   "execution_count": null,
   "metadata": {},
   "outputs": [],
   "source": []
  }
 ],
 "metadata": {
  "kernelspec": {
   "display_name": "Python 3",
   "language": "python",
   "name": "python3"
  },
  "language_info": {
   "codemirror_mode": {
    "name": "ipython",
    "version": 3
   },
   "file_extension": ".py",
   "mimetype": "text/x-python",
   "name": "python",
   "nbconvert_exporter": "python",
   "pygments_lexer": "ipython3",
   "version": "3.7.4"
  }
 },
 "nbformat": 4,
 "nbformat_minor": 2
}
